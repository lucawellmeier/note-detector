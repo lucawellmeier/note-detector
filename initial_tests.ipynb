{
 "cells": [
  {
   "cell_type": "code",
   "execution_count": 1,
   "metadata": {},
   "outputs": [
    {
     "data": {
      "text/plain": [
       "array([ 0.00000000e+00,  7.86185265e-05,  1.75297260e-04, ...,\n",
       "       -1.04109049e-02, -1.09789968e-02, -1.14910603e-02])"
      ]
     },
     "execution_count": 1,
     "metadata": {},
     "output_type": "execute_result"
    }
   ],
   "source": [
    "import numpy as np\n",
    "import soundfile as sf\n",
    "\n",
    "def loadToMono(path):\n",
    "    data, samplerate = sf.read(path)\n",
    "\n",
    "    data_mono = []\n",
    "    for i in range(len(data)):\n",
    "        data_mono.append((data[i][0] + data[i][1]) / 2)\n",
    "    \n",
    "    return np.asarray(data_mono), samplerate\n",
    "\n",
    "dataA, samplerate = loadToMono('/home/luca/Downloads/UprightPianoKW-SFZ-20190703/samples/A4vL.wav')\n",
    "dataC, samplerate = loadToMono('/home/luca/Downloads/UprightPianoKW-SFZ-20190703/samples/C5vL.wav')\n",
    "dataA3, samplerate = loadToMono('/home/luca/Downloads/UprightPianoKW-SFZ-20190703/samples/A3vL.wav')\n",
    "\n",
    "def add(waves):\n",
    "    assert(len(waves) >= 2)\n",
    "    \n",
    "    a = waves[0]\n",
    "    b = waves[1]\n",
    "    mx = a if a.size > b.size else b\n",
    "    mn = a if a.size < b.size else b\n",
    "    z = np.zeros(mx.shape)\n",
    "    z[:mn.size] = mn\n",
    "    combined = mx + z\n",
    "    \n",
    "    if len(waves) > 2:\n",
    "        return add([combined] + waves[2:])\n",
    "    elif len(waves) == 2:\n",
    "        return combined\n",
    "\n",
    "data_mono = add([dataA, dataA3])\n",
    "data_mono"
   ]
  },
  {
   "cell_type": "code",
   "execution_count": 2,
   "metadata": {
    "scrolled": true
   },
   "outputs": [
    {
     "data": {
      "image/png": "[encoded data removed]",
      "text/plain": [
       "<Figure size 432x288 with 1 Axes>"
      ]
     },
     "metadata": {
      "needs_background": "light"
     },
     "output_type": "display_data"
    }
   ],
   "source": [
    "from matplotlib import pyplot\n",
    "\n",
    "t = [(i) * 1/samplerate for i in range(data_mono.size)]\n",
    "\n",
    "pyplot.plot(t, data_mono)\n",
    "pyplot.show()"
   ]
  },
  {
   "cell_type": "code",
   "execution_count": 3,
   "metadata": {
    "scrolled": false
   },
   "outputs": [
    {
     "data": {
      "image/png": "[encoded data removed]",
      "text/plain": [
       "<Figure size 432x288 with 1 Axes>"
      ]
     },
     "metadata": {
      "needs_background": "light"
     },
     "output_type": "display_data"
    }
   ],
   "source": [
    "import matplotlib.pyplot as plt\n",
    "s = np.asarray(data_mono)\n",
    "fft = np.fft.fft(s)\n",
    "T = 1/samplerate  # sampling interval \n",
    "N = s.size\n",
    "\n",
    "# 1/T = frequency\n",
    "f = np.linspace(0, 1 / T, N)\n",
    "\n",
    "plt.ylabel(\"Amplitude\")\n",
    "plt.xlabel(\"Frequency [Hz]\")\n",
    "x = f[:N // 2]\n",
    "y = np.abs(fft)[:N // 2]\n",
    "\n",
    "I = 50000\n",
    "\n",
    "plt.plot(x[:I], y[:I])  # 1 / N is a normalization factor\n",
    "plt.show()"
   ]
  },
  {
   "cell_type": "code",
   "execution_count": 4,
   "metadata": {
    "scrolled": false
   },
   "outputs": [
    {
     "data": {
      "text/plain": [
       "[(219.34111409949557, 4925.404299309),\n",
       " (439.6149331490953, 2362.6000161957404),\n",
       " (658.1787931235041, 904.6582508349723),\n",
       " (880.0071204232775, 744.0027494404252),\n",
       " (1100.1254886478598, 539.3564215996212),\n",
       " (1545.1812006725627, 412.8219074575589)]"
      ]
     },
     "execution_count": 4,
     "metadata": {},
     "output_type": "execute_result"
    }
   ],
   "source": [
    "def findAllAbove(freq, amp, a, discreteTolerance):\n",
    "    c = amp >= a\n",
    "    \n",
    "    maxs = []\n",
    "    curMax = []\n",
    "    toleranceCounter = 0\n",
    "    firstSignal = False\n",
    "\n",
    "    for i in range(len(y)):\n",
    "        if c[i]: \n",
    "            curMax.append((freq[i], amp[i]))\n",
    "            firstSignal = True\n",
    "        else:\n",
    "            if len(curMax) == 0:\n",
    "                continue\n",
    "            else:\n",
    "                if toleranceCounter > discreteTolerance:\n",
    "                    m = np.max([x[1] for x in curMax])\n",
    "                    f = freq[np.where(amp == m)][0]\n",
    "                    maxs.append((f, m))\n",
    "                    \n",
    "                    curMax = []\n",
    "                    toleranceCounter = 0\n",
    "                    firstSignal = False\n",
    "                else:\n",
    "                    if firstSignal:\n",
    "                        toleranceCounter += 1\n",
    "    \n",
    "    return maxs\n",
    "\n",
    "\n",
    "maxs = findAllAbove(x, y, 200, 10)\n",
    "maxs"
   ]
  },
  {
   "cell_type": "code",
   "execution_count": 5,
   "metadata": {},
   "outputs": [
    {
     "data": {
      "text/plain": [
       "[[(219.34111409949557, 4925.404299309),\n",
       "  (439.6149331490953, 2362.6000161957404),\n",
       "  (658.1787931235041, 904.6582508349723),\n",
       "  (880.0071204232775, 744.0027494404252),\n",
       "  (1100.1254886478598, 539.3564215996212),\n",
       "  (1545.1812006725627, 412.8219074575589)]]"
      ]
     },
     "execution_count": 5,
     "metadata": {},
     "output_type": "execute_result"
    }
   ],
   "source": [
    "def filterMultiples(maxs, tol):\n",
    "    copy = [m for m in maxs]\n",
    "    mults = []\n",
    "    cur = []\n",
    "    \n",
    "    while len(copy) > 0:\n",
    "        cur.append(copy[0])\n",
    "        del copy[0]\n",
    "        \n",
    "        removed = 0\n",
    "        for i in range(len(copy)):\n",
    "            ratio = copy[i - removed][0] / cur[0][0]\n",
    "            if abs(ratio - round(ratio)) < tol:\n",
    "                cur.append(copy[i - removed])\n",
    "                del copy[i - removed]\n",
    "                removed += 1\n",
    "                \n",
    "        mults.append(cur)\n",
    "        cur = []\n",
    "    \n",
    "    return mults\n",
    "        \n",
    "    \n",
    "filterMultiples(maxs, 0.1)"
   ]
  }
 ],
 "metadata": {
  "kernelspec": {
   "display_name": "Python 3",
   "language": "python",
   "name": "python3"
  },
  "language_info": {
   "codemirror_mode": {
    "name": "ipython",
    "version": 3
   },
   "file_extension": ".py",
   "mimetype": "text/x-python",
   "name": "python",
   "nbconvert_exporter": "python",
   "pygments_lexer": "ipython3",
   "version": "3.8.3"
  }
 },
 "nbformat": 4,
 "nbformat_minor": 4
}
