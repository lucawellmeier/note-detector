{
 "cells": [
  {
   "cell_type": "code",
   "execution_count": 1,
   "metadata": {
    "scrolled": false
   },
   "outputs": [
    {
     "name": "stdout",
     "output_type": "stream",
     "text": [
      "path: files/Piano.mf.A4.aiff\n",
      "original data size: 1322313\n",
      "original samplerate: 44100\n",
      "new data size: 1322313\n",
      "new samplerate: 44100\n",
      " \n",
      "path: files/Piano.mf.G5.aiff\n",
      "original data size: 861579\n",
      "original samplerate: 44100\n",
      "new data size: 861579\n",
      "new samplerate: 44100\n",
      " \n"
     ]
    }
   ],
   "source": [
    "import numpy as np\n",
    "import scipy.signal as sps\n",
    "import soundfile as sf\n",
    "\n",
    "def loadToMono(path, new_sr):\n",
    "    data, sr = sf.read(path)\n",
    "    print('path:', path)\n",
    "    print('original data size:', len(data))\n",
    "    print('original samplerate:', sr)\n",
    "    \n",
    "    \n",
    "    data_mono = []\n",
    "    for i in range(len(data)):\n",
    "        data_mono.append((data[i][0] + data[i][1]) / 2)\n",
    "    \n",
    "    ret = np.asarray(data_mono)\n",
    "    samples = round(len(ret) * float(new_sr) / sr)\n",
    "    ret = sps.resample(np.asarray(ret), samples)\n",
    "    \n",
    "    print('new data size:', len(ret))\n",
    "    print('new samplerate:', new_sr)\n",
    "    print(' ')\n",
    "    \n",
    "    return ret\n",
    "\n",
    "# Statt das kleinere Array mit Nullen zu erweitern, wird das größere gekürzt. --> Keine unnötigen Nullen    \n",
    "def add(waves):\n",
    "    if len(waves) == 1:\n",
    "        return waves[0]\n",
    "    elif len(waves) == 0:\n",
    "        return []\n",
    "\n",
    "    a = waves[0]\n",
    "    b = waves[1]\n",
    "    combined = []\n",
    "    if len(a) >= len(b):\n",
    "        combined = b + a[:len(b)]\n",
    "    else:\n",
    "        combined = a + b[:len(a)]\n",
    "    \n",
    "    if len(waves) > 2:\n",
    "        return add([combined] + waves[2:])\n",
    "    elif len(waves) == 2:\n",
    "        return combined\n",
    "\n",
    "# Ein Signal sollte mit mindestens der doppelten Frequenz abgetastet(gesampled) werden (Nyquist Sampling Theorem). \n",
    "# Auch wenn 8kHz mehr als doppelt so viel ist bei unseren bisherigen Noten, \n",
    "# sollten wir imo an die gesamte menschliche Hörweite denken --> samplerate mind. 40kHz\n",
    "samplerate = 44100\n",
    "\n",
    "# pp = sehr leise, mf = ziemlich laut, ff = sehr laut (Begriffe aus der Musik)\n",
    "# Wir sollten gerade am Anfang die lauteren nehmen um sie einfacher trennen zu können, \n",
    "# aber für spätere Tests ist es gut die leiseren zu haben\n",
    "a4 = loadToMono('files/Piano.mf.A4.aiff', samplerate) \n",
    "g5 = loadToMono('files/Piano.mf.G5.aiff', samplerate)\n",
    "\n",
    "data_mono = add([a4, g5])"
   ]
  },
  {
   "cell_type": "code",
   "execution_count": 2,
   "metadata": {
    "scrolled": false
   },
   "outputs": [
    {
     "data": {
      "image/png": "[encoded data removed]",
      "text/plain": [
       "<Figure size 432x288 with 1 Axes>"
      ]
     },
     "metadata": {
      "needs_background": "light"
     },
     "output_type": "display_data"
    }
   ],
   "source": [
    "from matplotlib import pyplot\n",
    "\n",
    "t = [(i) * 1/samplerate for i in range(data_mono.size)]\n",
    "\n",
    "pyplot.plot(t, data_mono)\n",
    "pyplot.show()"
   ]
  },
  {
   "cell_type": "code",
   "execution_count": 3,
   "metadata": {
    "scrolled": true
   },
   "outputs": [
    {
     "data": {
      "image/png": "[encoded data removed]",
      "text/plain": [
       "<Figure size 432x288 with 1 Axes>"
      ]
     },
     "metadata": {
      "needs_background": "light"
     },
     "output_type": "display_data"
    }
   ],
   "source": [
    "import matplotlib.pyplot as plt\n",
    "s = np.asarray(data_mono)\n",
    "fft = np.fft.fft(s)\n",
    "T = 1/samplerate  # sampling interval \n",
    "N = s.size\n",
    "\n",
    "# 1/T = frequency\n",
    "f = np.linspace(0, 1 / T, N)\n",
    "\n",
    "x = f[round(N/samplerate*20):N // 2] # ab ~20Hz starten um Peak bei 0 auszufiltern\n",
    "y = np.abs(fft)[round(N/samplerate*20):N // 2]\n",
    "\n",
    "# evtl. so normalisieren, denn so sind alle Amplituden im Verhältnis zu der größten Amplitude gegeben. \n",
    "# --> Feste Grenzen können im nächsten Schritt leichter festgelegt werden\n",
    "y = y/max(y)\n",
    "\n",
    "a = round(100*N/samplerate)\n",
    "b = round(2500*N/samplerate) # Angabe in Hz\n",
    "\n",
    "plt.ylabel(\"Amplitude\")\n",
    "plt.xlabel(\"Frequency [Hz]\")\n",
    "plt.xlim(20, 2500)\n",
    "plt.plot(x, y)\n",
    "plt.show()"
   ]
  },
  {
   "cell_type": "code",
   "execution_count": 4,
   "metadata": {
    "scrolled": false
   },
   "outputs": [
    {
     "name": "stdout",
     "output_type": "stream",
     "text": [
      "[(440.65296467644254, 1.0), (785.0778455345888, 0.2858320785286107), (883.0974096367363, 0.4633192173595557), (1326.9238536731439, 0.20997797514221178), (1774.2820731262868, 0.09267265967516856)]\n"
     ]
    },
    {
     "data": {
      "image/png": "[encoded data removed]",
      "text/plain": [
       "<Figure size 432x288 with 1 Axes>"
      ]
     },
     "metadata": {
      "needs_background": "light"
     },
     "output_type": "display_data"
    }
   ],
   "source": [
    "def findAllAbove(freq, amp, a, discreteTolerance):\n",
    "    c = amp >= a\n",
    "    \n",
    "    maxs = []\n",
    "    curMax = []\n",
    "    toleranceCounter = 0\n",
    "    firstSignal = False\n",
    "\n",
    "    for i in range(len(y)):\n",
    "        if c[i]: \n",
    "            curMax.append((freq[i], amp[i]))\n",
    "            firstSignal = True\n",
    "        else:\n",
    "            if len(curMax) == 0:\n",
    "                continue\n",
    "            else:\n",
    "                if toleranceCounter > discreteTolerance:\n",
    "                    m = np.max([x[1] for x in curMax])\n",
    "                    f = freq[np.where(amp == m)][0]\n",
    "                    \n",
    "                    if f > 0.5:\n",
    "                        maxs.append((f, m))\n",
    "                    \n",
    "                    curMax = []\n",
    "                    toleranceCounter = 0\n",
    "                    firstSignal = False\n",
    "                else:\n",
    "                    if firstSignal:\n",
    "                        toleranceCounter += 1\n",
    "    \n",
    "    return maxs\n",
    "\n",
    "threshold = 0.05\n",
    "maxs = findAllAbove(x, y, threshold, 100)\n",
    "print(maxs)\n",
    "\n",
    "plt.xlim(10, 2500)\n",
    "plt.plot(x, y)\n",
    "plt.plot(x, [threshold] * len(x))\n",
    "plt.scatter(*zip(*maxs))\n",
    "plt.show()\n",
    "\n",
    "\n",
    "# Threshold muss hoch genug gewählt werden, da sonst das Rauschen mitkommt.\n",
    "# Wenn dabei nur die Grundschwingung einer Note aufgenommen wird,\n",
    "# ist das nicht so kritisch, da dann klar ist das diese Note angeschlagen wurde."
   ]
  },
  {
   "cell_type": "code",
   "execution_count": 5,
   "metadata": {},
   "outputs": [
    {
     "data": {
      "text/plain": [
       "[[(440.65296467644254, 1.0),\n",
       "  (883.0974096367363, 0.4633192173595557),\n",
       "  (1326.9238536731439, 0.20997797514221178),\n",
       "  (1774.2820731262868, 0.09267265967516856)],\n",
       " [(785.0778455345888, 0.2858320785286107)]]"
      ]
     },
     "execution_count": 5,
     "metadata": {},
     "output_type": "execute_result"
    }
   ],
   "source": [
    "def filterMultiples(maxs, tol):\n",
    "    copy = [m for m in maxs]\n",
    "    mults = []\n",
    "    cur = []\n",
    "    \n",
    "    while len(copy) > 0:\n",
    "        cur.append(copy[0])\n",
    "        del copy[0]\n",
    "        \n",
    "        removed = 0\n",
    "        for i in range(len(copy)):\n",
    "            ratio = copy[i - removed][0] / cur[0][0]\n",
    "            if abs(ratio - round(ratio)) < tol:\n",
    "                cur.append(copy[i - removed])\n",
    "                del copy[i - removed]\n",
    "                removed += 1\n",
    "                \n",
    "        mults.append(cur)\n",
    "        cur = []\n",
    "    \n",
    "    return mults\n",
    "        \n",
    "    \n",
    "mults = filterMultiples(maxs, 0.1)\n",
    "mults"
   ]
  },
  {
   "cell_type": "code",
   "execution_count": 6,
   "metadata": {},
   "outputs": [
    {
     "data": {
      "text/plain": [
       "[440.65296467644254, 785.0778455345888]"
      ]
     },
     "execution_count": 6,
     "metadata": {},
     "output_type": "execute_result"
    }
   ],
   "source": [
    "def getNoteFreqs(mults):\n",
    "    \"\"\"\n",
    "    Ermittelt die angeschlagenen Frequenzen.\n",
    "    \n",
    "    Aus jeder Liste von Grund- und Oberschwingungen wird die maximale Amplitude der Liste herausgesucht\n",
    "    und mit den anderen Amplituden verglichen. Fallen die anderen Amplituden nicht ab, wurden diese ebenfalls angeschlagen.\n",
    "    Fallen sie ab, werden sie nicht aufgenommen, da es entweder Oberschwingungen oder Fehler sind.\n",
    "    Z.b. A4 und A5 angeschlagen: 440Hz und 880Hz müssen aufgenommen werden.\n",
    "    \"\"\"\n",
    "    ret = []\n",
    "    \n",
    "    maximum = 0\n",
    "    \n",
    "    for i in range(len(mults)):\n",
    "        for j in range(len(mults[i])):\n",
    "            if mults[i][j][1] > maximum:\n",
    "                maximum = mults[i][j][1]\n",
    "        for j in range(len(mults[i])):\n",
    "            if mults[i][j][1]/maximum >= 0.55:\n",
    "                ret.append(mults[i][j][0])\n",
    "        maximum = 0\n",
    "                \n",
    "    return ret\n",
    "\n",
    "noteFreqs = getNoteFreqs(mults)\n",
    "noteFreqs"
   ]
  },
  {
   "cell_type": "code",
   "execution_count": 7,
   "metadata": {},
   "outputs": [
    {
     "data": {
      "text/plain": [
       "'\\nFür eine Erkennung der Melodie müssen wir die Sound-Datei nachher in kleinen Schritten analysieren,\\ndenn es bringt nichts die Noten aus dem ganzen Musikstück zu kennen; wir brauchen die Noten in einer Reihenfolge.\\n\\nWir nehmen also immer x ms und analysieren sie wie hier und schreiben die Noten raus, danach die nächsten x ms usw.\\nEvtl. müssen wir dabei unterschiedliche Fenster-Funktionen ausprobieren.\\n\\nscipy.signal.stft tut genau das und die Fensterfunktion ist wählbar.\\n'"
      ]
     },
     "execution_count": 7,
     "metadata": {},
     "output_type": "execute_result"
    }
   ],
   "source": [
    "\"\"\"\n",
    "Für eine Erkennung der Melodie müssen wir die Sound-Datei nachher in kleinen Schritten analysieren,\n",
    "denn es bringt nichts die Noten aus dem ganzen Musikstück zu kennen; wir brauchen die Noten in einer Reihenfolge.\n",
    "\n",
    "Wir nehmen also immer x ms und analysieren sie wie hier und schreiben die Noten raus, danach die nächsten x ms usw.\n",
    "Evtl. müssen wir dabei unterschiedliche Fenster-Funktionen ausprobieren.\n",
    "\n",
    "scipy.signal.stft tut genau das und die Fensterfunktion ist wählbar.\n",
    "\"\"\""
   ]
  }
 ],
 "metadata": {
  "kernelspec": {
   "display_name": "Python 3",
   "language": "python",
   "name": "python3"
  },
  "language_info": {
   "codemirror_mode": {
    "name": "ipython",
    "version": 3
   },
   "file_extension": ".py",
   "mimetype": "text/x-python",
   "name": "python",
   "nbconvert_exporter": "python",
   "pygments_lexer": "ipython3",
   "version": "3.7.6"
  }
 },
 "nbformat": 4,
 "nbformat_minor": 4
}
